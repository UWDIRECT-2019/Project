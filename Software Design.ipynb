{
 "cells": [
  {
   "cell_type": "markdown",
   "metadata": {},
   "source": [
    "# Software Design\n",
    "\n",
    "The purpose of this software program is to predict the Density of State (DOS) and other electronic properties of new materials based on an X-Ray Diffraction (XRD) datafiles, using a machine learning algorithm. Below we describe the use cases within the program and the component to accomodate that use case. \n",
    "\n",
    "### Mine data from the Materials Project Database\n",
    "   The XRD and DOS data off of the Materials Project Database (MPD) will be the source of training and test datasets.\n",
    "   \n",
    "   ***MatMiner*** is the software tool used to access the data on the MPD.\n",
    "\n",
    "\n",
    "\n",
    "### Uploading JSON (XRD) data file\n",
    "XRD data is in the format of a .json file. When this program the user wants to predict the DOS of their material, they will upload a .json file into the program. \n",
    "\n",
    "***TBD*** on the program we use or create to do that. \n",
    "\n",
    "\n",
    "### Cleaning the data \n",
    "In either data source, the data will need to be cleaned and edited such that it is presentable to the machine learning model.\n",
    "\n",
    "***TBD*** on the method we use to accomplish this. It will likely depend heavily on the machine learning tool we choose. \n",
    "\n",
    "\n",
    "### Separating training dataset from test dataset\n",
    "This is fairly simple, and the data will just be divided into 80% training and 20% test datasets. \n",
    "\n",
    "***TBD*** on if we use a tool to do this or if we just write our own code. \n",
    "\n",
    "\n",
    "### Running the training set through a machine learning algorithm \n",
    "This will train the algorithm to predict the DOS with XRD data. \n",
    "\n",
    "***Scikitlearn, Keras, and Tensorflow*** are possible candidates for the machine learning algorithm we use. If we end up running the data through multiple tools to select the best one, we may end up using all three.\n",
    "\n",
    "\n",
    "### Running the test set through the same alogrithm \n",
    "This will test the algorithm to make sure it can accruately predict the DOS with XRD data. \n",
    "\n",
    "***Scikitlearn, Keras, and Tensorflow*** are possible candidates for the machine learning algorithm we use. If we end up running the data through multiple tools to select the best one, we may end up using all three.\n",
    "\n",
    "\n",
    "#### Possible Use Case: Running both the training set and test set through multiple machine learning algorithms to determine the best model\n",
    "\n",
    "\n",
    "### Verifying the statistical reliability of the predicted results\n",
    "This will quantitiatively determine if the machine learning algorithm is functioning correctly and is appropriate for the dataset.  \n",
    "\n",
    "***TBD*** on which statistical methods we use to accomplish this. \n",
    "\n",
    "\n",
    "### Visualize the predicted data\n",
    "This will create a graph of the DOS can can be saved. \n",
    "\n",
    "***TBD*** on which visualization package we use. It will likely depend on the complexity of the data, which we are currently unsure of. \n",
    "\n",
    "\n",
    "#### Possible Use Case: Develope a functional User Interface that allows users to access the software without previous coding experience. \n",
    "\n"
   ]
  },
  {
   "cell_type": "code",
   "execution_count": null,
   "metadata": {},
   "outputs": [],
   "source": [
    "#"
   ]
  }
 ],
 "metadata": {
  "kernelspec": {
   "display_name": "Python 3",
   "language": "python",
   "name": "python3"
  },
  "language_info": {
   "codemirror_mode": {
    "name": "ipython",
    "version": 3
   },
   "file_extension": ".py",
   "mimetype": "text/x-python",
   "name": "python",
   "nbconvert_exporter": "python",
   "pygments_lexer": "ipython3",
   "version": "3.7.1"
  }
 },
 "nbformat": 4,
 "nbformat_minor": 2
}
